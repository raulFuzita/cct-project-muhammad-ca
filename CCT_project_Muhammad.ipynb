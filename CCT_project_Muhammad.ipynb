{
  "nbformat": 4,
  "nbformat_minor": 0,
  "metadata": {
    "colab": {
      "name": "CCT_project-Muhammad.ipynb",
      "provenance": [],
      "collapsed_sections": [],
      "include_colab_link": true
    },
    "kernelspec": {
      "name": "ir",
      "display_name": "R"
    },
    "language_info": {
      "name": "R"
    }
  },
  "cells": [
    {
      "cell_type": "markdown",
      "metadata": {
        "id": "view-in-github",
        "colab_type": "text"
      },
      "source": [
        "<a href=\"https://colab.research.google.com/github/raulFuzita/cct-project-muhammad-ca/blob/developer/CCT_project_Muhammad.ipynb\" target=\"_parent\"><img src=\"https://colab.research.google.com/assets/colab-badge.svg\" alt=\"Open In Colab\"/></a>"
      ]
    },
    {
      "cell_type": "markdown",
      "metadata": {
        "id": "FovOCMvbdqFs"
      },
      "source": [
        "# BSc (Hons) in Computing in IT (4th Yr)"
      ]
    },
    {
      "cell_type": "markdown",
      "metadata": {
        "id": "QlrbqW-cd7F4"
      },
      "source": [
        "## Data Exploration & Preparation - CA\n"
      ]
    },
    {
      "cell_type": "markdown",
      "metadata": {
        "id": "OxZCfc5XeAtY"
      },
      "source": [
        "Lecturer: Dr. Muhammad Iqbal\n",
        "\n",
        "Group Names:                     IDs:\n",
        "\n",
        "David Silva                      2018264\n",
        "\n",
        "Fatime Reisenleitner             2020491\n",
        "\n",
        "Luiz Santos Dias                 2018429\n",
        "\n",
        "Raul Macedo Fuzita               2018337"
      ]
    },
    {
      "cell_type": "markdown",
      "metadata": {
        "id": "Wx89E2gO8KDq"
      },
      "source": [
        "## Test Dataset"
      ]
    },
    {
      "cell_type": "markdown",
      "metadata": {
        "id": "Z3fAtDrv-8QI"
      },
      "source": [
        "**Fatime**"
      ]
    },
    {
      "cell_type": "code",
      "metadata": {
        "id": "5OPT_MNwdEoW"
      },
      "source": [
        "# Import CSV File into R with Github\n",
        "f_data <- read.csv(\"https://raw.githubusercontent.com/raulFuzita/cct-project-muhammad-ca/main/sales-3%20SuperstoreSalesTraining.csv\")"
      ],
      "execution_count": null,
      "outputs": []
    },
    {
      "cell_type": "code",
      "metadata": {
        "id": "CqNdapa88l1E",
        "colab": {
          "base_uri": "https://localhost:8080/",
          "height": 439
        },
        "outputId": "2476a70e-7420-45fc-c546-f90fe3316040"
      },
      "source": [
        "# function to return 1st n rows (default=6)\n",
        "head(f_data, n=15)"
      ],
      "execution_count": null,
      "outputs": [
        {
          "output_type": "display_data",
          "data": {
            "text/plain": [
              "  Row Order.Priority Order.Date Order Discount Unit.Price Order.Quantity\n",
              "1 1   High           01/01/2010 28774 10%        6        32            \n",
              "2 2   Not Specified  01/01/2010 88028 8%        96         2            \n",
              "3 3   Critical       02/01/2010  9285 6%        41         3            \n",
              "4 4   Low            02/01/2010 37537 0%       292         4            \n",
              "5 5   Low            02/01/2010 37537 7%       101        43            \n",
              "6 6   Low            02/01/2010 37537 5%       155        32            \n",
              "  Sales   Profit  Shipping.Cost ⋯ Customer_ID Customer.Name Region       \n",
              "1  172.80  106.36  5            ⋯ 1656        Joy Corbett   AsiaPac      \n",
              "2  176.64   45.64 35            ⋯ 2211        Anita Hahn    North America\n",
              "3  115.62   33.90  3            ⋯  949        Ernest Oh     North America\n",
              "4 1168.00  605.08 49            ⋯   68        Scott Bunn    North America\n",
              "5 4038.99 2647.66 45            ⋯   68        Scott Bunn    North America\n",
              "6 4712.00 2671.40  7            ⋯   68        Scott Bunn    North America\n",
              "  State      Country...Region         City          Postal.Code Ship.Date \n",
              "1 Central    Fiji                     Suva             NA       02/01/2010\n",
              "2 Maryland   United States of America Bowie         20715       03/01/2010\n",
              "3 California United States of America Los Angeles   90049       04/01/2010\n",
              "4 New York   United States of America New York City 10177       02/01/2010\n",
              "5 New York   United States of America New York City 10177       04/01/2010\n",
              "6 New York   United States of America New York City 10177       09/01/2010\n",
              "  Ship.Mode     \n",
              "1 Regular Air   \n",
              "2 Express Air   \n",
              "3 Regular Air   \n",
              "4 Delivery Truck\n",
              "5 Delivery Truck\n",
              "6 Regular Air   \n",
              "  SubRegion                                                                                                                                                                                                                                                      \n",
              "1                                                                                                                                                                                                                                                                \n",
              "2 East                                                                                                                                                                                                                                                           \n",
              "3 West                                                                                                                                                                                                                                                           \n",
              "4 East                                                                                                                                                                                                                                                           \n",
              "5 East                                                                                                                                                                                                                                                           \n",
              "6 East                                                                                                                                                                                                                                                           "
            ],
            "text/latex": "A data.frame: 6 × 26\n\\begin{tabular}{r|lllllllllllllllllllll}\n  & Row & Order.Priority & Order.Date & Order & Discount & Unit.Price & Order.Quantity & Sales & Profit & Shipping.Cost & ⋯ & Customer\\_ID & Customer.Name & Region & State & Country...Region & City & Postal.Code & Ship.Date & Ship.Mode & SubRegion\\\\\n  & <int> & <chr> & <chr> & <int> & <chr> & <dbl> & <int> & <dbl> & <dbl> & <dbl> & ⋯ & <int> & <chr> & <chr> & <chr> & <chr> & <chr> & <int> & <chr> & <chr> & <chr>\\\\\n\\hline\n\t1 & 1 & High          & 01/01/2010 & 28774 & 10\\% &   6 & 32 &  172.80 &  106.36 &  5 & ⋯ & 1656 & Joy Corbett & AsiaPac       & Central    & Fiji                     & Suva          &    NA & 02/01/2010 & Regular Air    &                                                                                                                                                                                                                                                                \\\\\n\t2 & 2 & Not Specified & 01/01/2010 & 88028 & 8\\%  &  96 &  2 &  176.64 &   45.64 & 35 & ⋯ & 2211 & Anita Hahn  & North America & Maryland   & United States of America & Bowie         & 20715 & 03/01/2010 & Express Air    & East                                                                                                                                                                                                                                                           \\\\\n\t3 & 3 & Critical      & 02/01/2010 &  9285 & 6\\%  &  41 &  3 &  115.62 &   33.90 &  3 & ⋯ &  949 & Ernest Oh   & North America & California & United States of America & Los Angeles   & 90049 & 04/01/2010 & Regular Air    & West                                                                                                                                                                                                                                                           \\\\\n\t4 & 4 & Low           & 02/01/2010 & 37537 & 0\\%  & 292 &  4 & 1168.00 &  605.08 & 49 & ⋯ &   68 & Scott Bunn  & North America & New York   & United States of America & New York City & 10177 & 02/01/2010 & Delivery Truck & East                                                                                                                                                                                                                                                           \\\\\n\t5 & 5 & Low           & 02/01/2010 & 37537 & 7\\%  & 101 & 43 & 4038.99 & 2647.66 & 45 & ⋯ &   68 & Scott Bunn  & North America & New York   & United States of America & New York City & 10177 & 04/01/2010 & Delivery Truck & East                                                                                                                                                                                                                                                           \\\\\n\t6 & 6 & Low           & 02/01/2010 & 37537 & 5\\%  & 155 & 32 & 4712.00 & 2671.40 &  7 & ⋯ &   68 & Scott Bunn  & North America & New York   & United States of America & New York City & 10177 & 09/01/2010 & Regular Air    & East                                                                                                                                                                                                                                                           \\\\\n\\end{tabular}\n",
            "text/markdown": "\nA data.frame: 6 × 26\n\n| <!--/--> | Row &lt;int&gt; | Order.Priority &lt;chr&gt; | Order.Date &lt;chr&gt; | Order &lt;int&gt; | Discount &lt;chr&gt; | Unit.Price &lt;dbl&gt; | Order.Quantity &lt;int&gt; | Sales &lt;dbl&gt; | Profit &lt;dbl&gt; | Shipping.Cost &lt;dbl&gt; | ⋯ ⋯ | Customer_ID &lt;int&gt; | Customer.Name &lt;chr&gt; | Region &lt;chr&gt; | State &lt;chr&gt; | Country...Region &lt;chr&gt; | City &lt;chr&gt; | Postal.Code &lt;int&gt; | Ship.Date &lt;chr&gt; | Ship.Mode &lt;chr&gt; | SubRegion &lt;chr&gt; |\n|---|---|---|---|---|---|---|---|---|---|---|---|---|---|---|---|---|---|---|---|---|---|\n| 1 | 1 | High          | 01/01/2010 | 28774 | 10% |   6 | 32 |  172.80 |  106.36 |  5 | ⋯ | 1656 | Joy Corbett | AsiaPac       | Central    | Fiji                     | Suva          |    NA | 02/01/2010 | Regular Air    | <!----> |\n| 2 | 2 | Not Specified | 01/01/2010 | 88028 | 8%  |  96 |  2 |  176.64 |   45.64 | 35 | ⋯ | 2211 | Anita Hahn  | North America | Maryland   | United States of America | Bowie         | 20715 | 03/01/2010 | Express Air    | East                                                                                                                                                                                                                                                            |\n| 3 | 3 | Critical      | 02/01/2010 |  9285 | 6%  |  41 |  3 |  115.62 |   33.90 |  3 | ⋯ |  949 | Ernest Oh   | North America | California | United States of America | Los Angeles   | 90049 | 04/01/2010 | Regular Air    | West                                                                                                                                                                                                                                                            |\n| 4 | 4 | Low           | 02/01/2010 | 37537 | 0%  | 292 |  4 | 1168.00 |  605.08 | 49 | ⋯ |   68 | Scott Bunn  | North America | New York   | United States of America | New York City | 10177 | 02/01/2010 | Delivery Truck | East                                                                                                                                                                                                                                                            |\n| 5 | 5 | Low           | 02/01/2010 | 37537 | 7%  | 101 | 43 | 4038.99 | 2647.66 | 45 | ⋯ |   68 | Scott Bunn  | North America | New York   | United States of America | New York City | 10177 | 04/01/2010 | Delivery Truck | East                                                                                                                                                                                                                                                            |\n| 6 | 6 | Low           | 02/01/2010 | 37537 | 5%  | 155 | 32 | 4712.00 | 2671.40 |  7 | ⋯ |   68 | Scott Bunn  | North America | New York   | United States of America | New York City | 10177 | 09/01/2010 | Regular Air    | East                                                                                                                                                                                                                                                            |\n\n",
            "text/html": [
              "<table class=\"dataframe\">\n",
              "<caption>A data.frame: 6 × 26</caption>\n",
              "<thead>\n",
              "\t<tr><th></th><th scope=col>Row</th><th scope=col>Order.Priority</th><th scope=col>Order.Date</th><th scope=col>Order</th><th scope=col>Discount</th><th scope=col>Unit.Price</th><th scope=col>Order.Quantity</th><th scope=col>Sales</th><th scope=col>Profit</th><th scope=col>Shipping.Cost</th><th scope=col>⋯</th><th scope=col>Customer_ID</th><th scope=col>Customer.Name</th><th scope=col>Region</th><th scope=col>State</th><th scope=col>Country...Region</th><th scope=col>City</th><th scope=col>Postal.Code</th><th scope=col>Ship.Date</th><th scope=col>Ship.Mode</th><th scope=col>SubRegion</th></tr>\n",
              "\t<tr><th></th><th scope=col>&lt;int&gt;</th><th scope=col>&lt;chr&gt;</th><th scope=col>&lt;chr&gt;</th><th scope=col>&lt;int&gt;</th><th scope=col>&lt;chr&gt;</th><th scope=col>&lt;dbl&gt;</th><th scope=col>&lt;int&gt;</th><th scope=col>&lt;dbl&gt;</th><th scope=col>&lt;dbl&gt;</th><th scope=col>&lt;dbl&gt;</th><th scope=col>⋯</th><th scope=col>&lt;int&gt;</th><th scope=col>&lt;chr&gt;</th><th scope=col>&lt;chr&gt;</th><th scope=col>&lt;chr&gt;</th><th scope=col>&lt;chr&gt;</th><th scope=col>&lt;chr&gt;</th><th scope=col>&lt;int&gt;</th><th scope=col>&lt;chr&gt;</th><th scope=col>&lt;chr&gt;</th><th scope=col>&lt;chr&gt;</th></tr>\n",
              "</thead>\n",
              "<tbody>\n",
              "\t<tr><th scope=row>1</th><td>1</td><td>High         </td><td>01/01/2010</td><td>28774</td><td>10%</td><td>  6</td><td>32</td><td> 172.80</td><td> 106.36</td><td> 5</td><td>⋯</td><td>1656</td><td>Joy Corbett</td><td>AsiaPac      </td><td>Central   </td><td>Fiji                    </td><td>Suva         </td><td>   NA</td><td>02/01/2010</td><td>Regular Air   </td><td>                                                                                                                                                                                                                                                               </td></tr>\n",
              "\t<tr><th scope=row>2</th><td>2</td><td>Not Specified</td><td>01/01/2010</td><td>88028</td><td>8% </td><td> 96</td><td> 2</td><td> 176.64</td><td>  45.64</td><td>35</td><td>⋯</td><td>2211</td><td>Anita Hahn </td><td>North America</td><td>Maryland  </td><td>United States of America</td><td>Bowie        </td><td>20715</td><td>03/01/2010</td><td>Express Air   </td><td>East                                                                                                                                                                                                                                                           </td></tr>\n",
              "\t<tr><th scope=row>3</th><td>3</td><td>Critical     </td><td>02/01/2010</td><td> 9285</td><td>6% </td><td> 41</td><td> 3</td><td> 115.62</td><td>  33.90</td><td> 3</td><td>⋯</td><td> 949</td><td>Ernest Oh  </td><td>North America</td><td>California</td><td>United States of America</td><td>Los Angeles  </td><td>90049</td><td>04/01/2010</td><td>Regular Air   </td><td>West                                                                                                                                                                                                                                                           </td></tr>\n",
              "\t<tr><th scope=row>4</th><td>4</td><td>Low          </td><td>02/01/2010</td><td>37537</td><td>0% </td><td>292</td><td> 4</td><td>1168.00</td><td> 605.08</td><td>49</td><td>⋯</td><td>  68</td><td>Scott Bunn </td><td>North America</td><td>New York  </td><td>United States of America</td><td>New York City</td><td>10177</td><td>02/01/2010</td><td>Delivery Truck</td><td>East                                                                                                                                                                                                                                                           </td></tr>\n",
              "\t<tr><th scope=row>5</th><td>5</td><td>Low          </td><td>02/01/2010</td><td>37537</td><td>7% </td><td>101</td><td>43</td><td>4038.99</td><td>2647.66</td><td>45</td><td>⋯</td><td>  68</td><td>Scott Bunn </td><td>North America</td><td>New York  </td><td>United States of America</td><td>New York City</td><td>10177</td><td>04/01/2010</td><td>Delivery Truck</td><td>East                                                                                                                                                                                                                                                           </td></tr>\n",
              "\t<tr><th scope=row>6</th><td>6</td><td>Low          </td><td>02/01/2010</td><td>37537</td><td>5% </td><td>155</td><td>32</td><td>4712.00</td><td>2671.40</td><td> 7</td><td>⋯</td><td>  68</td><td>Scott Bunn </td><td>North America</td><td>New York  </td><td>United States of America</td><td>New York City</td><td>10177</td><td>09/01/2010</td><td>Regular Air   </td><td>East                                                                                                                                                                                                                                                           </td></tr>\n",
              "</tbody>\n",
              "</table>\n"
            ]
          },
          "metadata": {}
        }
      ]
    },
    {
      "cell_type": "markdown",
      "metadata": {
        "id": "AXNibdWiA72U"
      },
      "source": [
        "**David** Test"
      ]
    },
    {
      "cell_type": "code",
      "metadata": {
        "id": "_xFJVe1QDanl"
      },
      "source": [
        "DavidData <- read.csv(\"https://raw.githubusercontent.com/raulFuzita/cct-project-muhammad-ca/main/sales-3%20SuperstoreSalesTraining.csv\")"
      ],
      "execution_count": null,
      "outputs": []
    },
    {
      "cell_type": "code",
      "metadata": {
        "id": "1kadFQLdDrWr",
        "colab": {
          "base_uri": "https://localhost:8080/",
          "height": 439
        },
        "outputId": "d74c8e99-8624-4107-828e-da57f1e7d947"
      },
      "source": [
        "head(DavidData)"
      ],
      "execution_count": null,
      "outputs": [
        {
          "output_type": "display_data",
          "data": {
            "text/plain": [
              "  Row Order.Priority Order.Date Order Discount Unit.Price Order.Quantity\n",
              "1 1   High           01/01/2010 28774 10%        6        32            \n",
              "2 2   Not Specified  01/01/2010 88028 8%        96         2            \n",
              "3 3   Critical       02/01/2010  9285 6%        41         3            \n",
              "4 4   Low            02/01/2010 37537 0%       292         4            \n",
              "5 5   Low            02/01/2010 37537 7%       101        43            \n",
              "6 6   Low            02/01/2010 37537 5%       155        32            \n",
              "  Sales   Profit  Shipping.Cost ⋯ Customer_ID Customer.Name Region       \n",
              "1  172.80  106.36  5            ⋯ 1656        Joy Corbett   AsiaPac      \n",
              "2  176.64   45.64 35            ⋯ 2211        Anita Hahn    North America\n",
              "3  115.62   33.90  3            ⋯  949        Ernest Oh     North America\n",
              "4 1168.00  605.08 49            ⋯   68        Scott Bunn    North America\n",
              "5 4038.99 2647.66 45            ⋯   68        Scott Bunn    North America\n",
              "6 4712.00 2671.40  7            ⋯   68        Scott Bunn    North America\n",
              "  State      Country...Region         City          Postal.Code Ship.Date \n",
              "1 Central    Fiji                     Suva             NA       02/01/2010\n",
              "2 Maryland   United States of America Bowie         20715       03/01/2010\n",
              "3 California United States of America Los Angeles   90049       04/01/2010\n",
              "4 New York   United States of America New York City 10177       02/01/2010\n",
              "5 New York   United States of America New York City 10177       04/01/2010\n",
              "6 New York   United States of America New York City 10177       09/01/2010\n",
              "  Ship.Mode     \n",
              "1 Regular Air   \n",
              "2 Express Air   \n",
              "3 Regular Air   \n",
              "4 Delivery Truck\n",
              "5 Delivery Truck\n",
              "6 Regular Air   \n",
              "  SubRegion                                                                                                                                                                                                                                                      \n",
              "1                                                                                                                                                                                                                                                                \n",
              "2 East                                                                                                                                                                                                                                                           \n",
              "3 West                                                                                                                                                                                                                                                           \n",
              "4 East                                                                                                                                                                                                                                                           \n",
              "5 East                                                                                                                                                                                                                                                           \n",
              "6 East                                                                                                                                                                                                                                                           "
            ],
            "text/latex": "A data.frame: 6 × 26\n\\begin{tabular}{r|lllllllllllllllllllll}\n  & Row & Order.Priority & Order.Date & Order & Discount & Unit.Price & Order.Quantity & Sales & Profit & Shipping.Cost & ⋯ & Customer\\_ID & Customer.Name & Region & State & Country...Region & City & Postal.Code & Ship.Date & Ship.Mode & SubRegion\\\\\n  & <int> & <chr> & <chr> & <int> & <chr> & <dbl> & <int> & <dbl> & <dbl> & <dbl> & ⋯ & <int> & <chr> & <chr> & <chr> & <chr> & <chr> & <int> & <chr> & <chr> & <chr>\\\\\n\\hline\n\t1 & 1 & High          & 01/01/2010 & 28774 & 10\\% &   6 & 32 &  172.80 &  106.36 &  5 & ⋯ & 1656 & Joy Corbett & AsiaPac       & Central    & Fiji                     & Suva          &    NA & 02/01/2010 & Regular Air    &                                                                                                                                                                                                                                                                \\\\\n\t2 & 2 & Not Specified & 01/01/2010 & 88028 & 8\\%  &  96 &  2 &  176.64 &   45.64 & 35 & ⋯ & 2211 & Anita Hahn  & North America & Maryland   & United States of America & Bowie         & 20715 & 03/01/2010 & Express Air    & East                                                                                                                                                                                                                                                           \\\\\n\t3 & 3 & Critical      & 02/01/2010 &  9285 & 6\\%  &  41 &  3 &  115.62 &   33.90 &  3 & ⋯ &  949 & Ernest Oh   & North America & California & United States of America & Los Angeles   & 90049 & 04/01/2010 & Regular Air    & West                                                                                                                                                                                                                                                           \\\\\n\t4 & 4 & Low           & 02/01/2010 & 37537 & 0\\%  & 292 &  4 & 1168.00 &  605.08 & 49 & ⋯ &   68 & Scott Bunn  & North America & New York   & United States of America & New York City & 10177 & 02/01/2010 & Delivery Truck & East                                                                                                                                                                                                                                                           \\\\\n\t5 & 5 & Low           & 02/01/2010 & 37537 & 7\\%  & 101 & 43 & 4038.99 & 2647.66 & 45 & ⋯ &   68 & Scott Bunn  & North America & New York   & United States of America & New York City & 10177 & 04/01/2010 & Delivery Truck & East                                                                                                                                                                                                                                                           \\\\\n\t6 & 6 & Low           & 02/01/2010 & 37537 & 5\\%  & 155 & 32 & 4712.00 & 2671.40 &  7 & ⋯ &   68 & Scott Bunn  & North America & New York   & United States of America & New York City & 10177 & 09/01/2010 & Regular Air    & East                                                                                                                                                                                                                                                           \\\\\n\\end{tabular}\n",
            "text/markdown": "\nA data.frame: 6 × 26\n\n| <!--/--> | Row &lt;int&gt; | Order.Priority &lt;chr&gt; | Order.Date &lt;chr&gt; | Order &lt;int&gt; | Discount &lt;chr&gt; | Unit.Price &lt;dbl&gt; | Order.Quantity &lt;int&gt; | Sales &lt;dbl&gt; | Profit &lt;dbl&gt; | Shipping.Cost &lt;dbl&gt; | ⋯ ⋯ | Customer_ID &lt;int&gt; | Customer.Name &lt;chr&gt; | Region &lt;chr&gt; | State &lt;chr&gt; | Country...Region &lt;chr&gt; | City &lt;chr&gt; | Postal.Code &lt;int&gt; | Ship.Date &lt;chr&gt; | Ship.Mode &lt;chr&gt; | SubRegion &lt;chr&gt; |\n|---|---|---|---|---|---|---|---|---|---|---|---|---|---|---|---|---|---|---|---|---|---|\n| 1 | 1 | High          | 01/01/2010 | 28774 | 10% |   6 | 32 |  172.80 |  106.36 |  5 | ⋯ | 1656 | Joy Corbett | AsiaPac       | Central    | Fiji                     | Suva          |    NA | 02/01/2010 | Regular Air    | <!----> |\n| 2 | 2 | Not Specified | 01/01/2010 | 88028 | 8%  |  96 |  2 |  176.64 |   45.64 | 35 | ⋯ | 2211 | Anita Hahn  | North America | Maryland   | United States of America | Bowie         | 20715 | 03/01/2010 | Express Air    | East                                                                                                                                                                                                                                                            |\n| 3 | 3 | Critical      | 02/01/2010 |  9285 | 6%  |  41 |  3 |  115.62 |   33.90 |  3 | ⋯ |  949 | Ernest Oh   | North America | California | United States of America | Los Angeles   | 90049 | 04/01/2010 | Regular Air    | West                                                                                                                                                                                                                                                            |\n| 4 | 4 | Low           | 02/01/2010 | 37537 | 0%  | 292 |  4 | 1168.00 |  605.08 | 49 | ⋯ |   68 | Scott Bunn  | North America | New York   | United States of America | New York City | 10177 | 02/01/2010 | Delivery Truck | East                                                                                                                                                                                                                                                            |\n| 5 | 5 | Low           | 02/01/2010 | 37537 | 7%  | 101 | 43 | 4038.99 | 2647.66 | 45 | ⋯ |   68 | Scott Bunn  | North America | New York   | United States of America | New York City | 10177 | 04/01/2010 | Delivery Truck | East                                                                                                                                                                                                                                                            |\n| 6 | 6 | Low           | 02/01/2010 | 37537 | 5%  | 155 | 32 | 4712.00 | 2671.40 |  7 | ⋯ |   68 | Scott Bunn  | North America | New York   | United States of America | New York City | 10177 | 09/01/2010 | Regular Air    | East                                                                                                                                                                                                                                                            |\n\n",
            "text/html": [
              "<table class=\"dataframe\">\n",
              "<caption>A data.frame: 6 × 26</caption>\n",
              "<thead>\n",
              "\t<tr><th></th><th scope=col>Row</th><th scope=col>Order.Priority</th><th scope=col>Order.Date</th><th scope=col>Order</th><th scope=col>Discount</th><th scope=col>Unit.Price</th><th scope=col>Order.Quantity</th><th scope=col>Sales</th><th scope=col>Profit</th><th scope=col>Shipping.Cost</th><th scope=col>⋯</th><th scope=col>Customer_ID</th><th scope=col>Customer.Name</th><th scope=col>Region</th><th scope=col>State</th><th scope=col>Country...Region</th><th scope=col>City</th><th scope=col>Postal.Code</th><th scope=col>Ship.Date</th><th scope=col>Ship.Mode</th><th scope=col>SubRegion</th></tr>\n",
              "\t<tr><th></th><th scope=col>&lt;int&gt;</th><th scope=col>&lt;chr&gt;</th><th scope=col>&lt;chr&gt;</th><th scope=col>&lt;int&gt;</th><th scope=col>&lt;chr&gt;</th><th scope=col>&lt;dbl&gt;</th><th scope=col>&lt;int&gt;</th><th scope=col>&lt;dbl&gt;</th><th scope=col>&lt;dbl&gt;</th><th scope=col>&lt;dbl&gt;</th><th scope=col>⋯</th><th scope=col>&lt;int&gt;</th><th scope=col>&lt;chr&gt;</th><th scope=col>&lt;chr&gt;</th><th scope=col>&lt;chr&gt;</th><th scope=col>&lt;chr&gt;</th><th scope=col>&lt;chr&gt;</th><th scope=col>&lt;int&gt;</th><th scope=col>&lt;chr&gt;</th><th scope=col>&lt;chr&gt;</th><th scope=col>&lt;chr&gt;</th></tr>\n",
              "</thead>\n",
              "<tbody>\n",
              "\t<tr><th scope=row>1</th><td>1</td><td>High         </td><td>01/01/2010</td><td>28774</td><td>10%</td><td>  6</td><td>32</td><td> 172.80</td><td> 106.36</td><td> 5</td><td>⋯</td><td>1656</td><td>Joy Corbett</td><td>AsiaPac      </td><td>Central   </td><td>Fiji                    </td><td>Suva         </td><td>   NA</td><td>02/01/2010</td><td>Regular Air   </td><td>                                                                                                                                                                                                                                                               </td></tr>\n",
              "\t<tr><th scope=row>2</th><td>2</td><td>Not Specified</td><td>01/01/2010</td><td>88028</td><td>8% </td><td> 96</td><td> 2</td><td> 176.64</td><td>  45.64</td><td>35</td><td>⋯</td><td>2211</td><td>Anita Hahn </td><td>North America</td><td>Maryland  </td><td>United States of America</td><td>Bowie        </td><td>20715</td><td>03/01/2010</td><td>Express Air   </td><td>East                                                                                                                                                                                                                                                           </td></tr>\n",
              "\t<tr><th scope=row>3</th><td>3</td><td>Critical     </td><td>02/01/2010</td><td> 9285</td><td>6% </td><td> 41</td><td> 3</td><td> 115.62</td><td>  33.90</td><td> 3</td><td>⋯</td><td> 949</td><td>Ernest Oh  </td><td>North America</td><td>California</td><td>United States of America</td><td>Los Angeles  </td><td>90049</td><td>04/01/2010</td><td>Regular Air   </td><td>West                                                                                                                                                                                                                                                           </td></tr>\n",
              "\t<tr><th scope=row>4</th><td>4</td><td>Low          </td><td>02/01/2010</td><td>37537</td><td>0% </td><td>292</td><td> 4</td><td>1168.00</td><td> 605.08</td><td>49</td><td>⋯</td><td>  68</td><td>Scott Bunn </td><td>North America</td><td>New York  </td><td>United States of America</td><td>New York City</td><td>10177</td><td>02/01/2010</td><td>Delivery Truck</td><td>East                                                                                                                                                                                                                                                           </td></tr>\n",
              "\t<tr><th scope=row>5</th><td>5</td><td>Low          </td><td>02/01/2010</td><td>37537</td><td>7% </td><td>101</td><td>43</td><td>4038.99</td><td>2647.66</td><td>45</td><td>⋯</td><td>  68</td><td>Scott Bunn </td><td>North America</td><td>New York  </td><td>United States of America</td><td>New York City</td><td>10177</td><td>04/01/2010</td><td>Delivery Truck</td><td>East                                                                                                                                                                                                                                                           </td></tr>\n",
              "\t<tr><th scope=row>6</th><td>6</td><td>Low          </td><td>02/01/2010</td><td>37537</td><td>5% </td><td>155</td><td>32</td><td>4712.00</td><td>2671.40</td><td> 7</td><td>⋯</td><td>  68</td><td>Scott Bunn </td><td>North America</td><td>New York  </td><td>United States of America</td><td>New York City</td><td>10177</td><td>09/01/2010</td><td>Regular Air   </td><td>East                                                                                                                                                                                                                                                           </td></tr>\n",
              "</tbody>\n",
              "</table>\n"
            ]
          },
          "metadata": {}
        }
      ]
    },
    {
      "cell_type": "markdown",
      "metadata": {
        "id": "ALOB7WijAGwH"
      },
      "source": [
        "### Luiz test"
      ]
    },
    {
      "cell_type": "code",
      "metadata": {
        "id": "_El6o0auBNgQ"
      },
      "source": [
        "luizData <- read.csv(\"https://raw.githubusercontent.com/raulFuzita/cct-project-muhammad-ca/main/sales-3%20SuperstoreSalesTraining.csv\")"
      ],
      "execution_count": null,
      "outputs": []
    },
    {
      "cell_type": "code",
      "metadata": {
        "colab": {
          "base_uri": "https://localhost:8080/",
          "height": 436
        },
        "id": "RDcXYegQBdMY",
        "outputId": "92082304-9b86-445c-e8ef-a8e52924c1f3"
      },
      "source": [
        "head(luizData)"
      ],
      "execution_count": null,
      "outputs": [
        {
          "output_type": "display_data",
          "data": {
            "text/plain": [
              "  Row Order.Priority Order.Date Order Discount Unit.Price Order.Quantity\n",
              "1 1   High           01/01/2010 28774 10%        6        32            \n",
              "2 2   Not Specified  01/01/2010 88028 8%        96         2            \n",
              "3 3   Critical       02/01/2010  9285 6%        41         3            \n",
              "4 4   Low            02/01/2010 37537 0%       292         4            \n",
              "5 5   Low            02/01/2010 37537 7%       101        43            \n",
              "6 6   Low            02/01/2010 37537 5%       155        32            \n",
              "  Sales   Profit  Shipping.Cost ⋯ Customer_ID Customer.Name Region       \n",
              "1  172.80  106.36  5            ⋯ 1656        Joy Corbett   AsiaPac      \n",
              "2  176.64   45.64 35            ⋯ 2211        Anita Hahn    North America\n",
              "3  115.62   33.90  3            ⋯  949        Ernest Oh     North America\n",
              "4 1168.00  605.08 49            ⋯   68        Scott Bunn    North America\n",
              "5 4038.99 2647.66 45            ⋯   68        Scott Bunn    North America\n",
              "6 4712.00 2671.40  7            ⋯   68        Scott Bunn    North America\n",
              "  State      Country...Region         City          Postal.Code Ship.Date \n",
              "1 Central    Fiji                     Suva             NA       02/01/2010\n",
              "2 Maryland   United States of America Bowie         20715       03/01/2010\n",
              "3 California United States of America Los Angeles   90049       04/01/2010\n",
              "4 New York   United States of America New York City 10177       02/01/2010\n",
              "5 New York   United States of America New York City 10177       04/01/2010\n",
              "6 New York   United States of America New York City 10177       09/01/2010\n",
              "  Ship.Mode     \n",
              "1 Regular Air   \n",
              "2 Express Air   \n",
              "3 Regular Air   \n",
              "4 Delivery Truck\n",
              "5 Delivery Truck\n",
              "6 Regular Air   \n",
              "  SubRegion                                                                                                                                                                                                                                                      \n",
              "1                                                                                                                                                                                                                                                                \n",
              "2 East                                                                                                                                                                                                                                                           \n",
              "3 West                                                                                                                                                                                                                                                           \n",
              "4 East                                                                                                                                                                                                                                                           \n",
              "5 East                                                                                                                                                                                                                                                           \n",
              "6 East                                                                                                                                                                                                                                                           "
            ],
            "text/latex": "A data.frame: 6 × 26\n\\begin{tabular}{r|lllllllllllllllllllll}\n  & Row & Order.Priority & Order.Date & Order & Discount & Unit.Price & Order.Quantity & Sales & Profit & Shipping.Cost & ⋯ & Customer\\_ID & Customer.Name & Region & State & Country...Region & City & Postal.Code & Ship.Date & Ship.Mode & SubRegion\\\\\n  & <int> & <chr> & <chr> & <int> & <chr> & <dbl> & <int> & <dbl> & <dbl> & <dbl> & ⋯ & <int> & <chr> & <chr> & <chr> & <chr> & <chr> & <int> & <chr> & <chr> & <chr>\\\\\n\\hline\n\t1 & 1 & High          & 01/01/2010 & 28774 & 10\\% &   6 & 32 &  172.80 &  106.36 &  5 & ⋯ & 1656 & Joy Corbett & AsiaPac       & Central    & Fiji                     & Suva          &    NA & 02/01/2010 & Regular Air    &                                                                                                                                                                                                                                                                \\\\\n\t2 & 2 & Not Specified & 01/01/2010 & 88028 & 8\\%  &  96 &  2 &  176.64 &   45.64 & 35 & ⋯ & 2211 & Anita Hahn  & North America & Maryland   & United States of America & Bowie         & 20715 & 03/01/2010 & Express Air    & East                                                                                                                                                                                                                                                           \\\\\n\t3 & 3 & Critical      & 02/01/2010 &  9285 & 6\\%  &  41 &  3 &  115.62 &   33.90 &  3 & ⋯ &  949 & Ernest Oh   & North America & California & United States of America & Los Angeles   & 90049 & 04/01/2010 & Regular Air    & West                                                                                                                                                                                                                                                           \\\\\n\t4 & 4 & Low           & 02/01/2010 & 37537 & 0\\%  & 292 &  4 & 1168.00 &  605.08 & 49 & ⋯ &   68 & Scott Bunn  & North America & New York   & United States of America & New York City & 10177 & 02/01/2010 & Delivery Truck & East                                                                                                                                                                                                                                                           \\\\\n\t5 & 5 & Low           & 02/01/2010 & 37537 & 7\\%  & 101 & 43 & 4038.99 & 2647.66 & 45 & ⋯ &   68 & Scott Bunn  & North America & New York   & United States of America & New York City & 10177 & 04/01/2010 & Delivery Truck & East                                                                                                                                                                                                                                                           \\\\\n\t6 & 6 & Low           & 02/01/2010 & 37537 & 5\\%  & 155 & 32 & 4712.00 & 2671.40 &  7 & ⋯ &   68 & Scott Bunn  & North America & New York   & United States of America & New York City & 10177 & 09/01/2010 & Regular Air    & East                                                                                                                                                                                                                                                           \\\\\n\\end{tabular}\n",
            "text/markdown": "\nA data.frame: 6 × 26\n\n| <!--/--> | Row &lt;int&gt; | Order.Priority &lt;chr&gt; | Order.Date &lt;chr&gt; | Order &lt;int&gt; | Discount &lt;chr&gt; | Unit.Price &lt;dbl&gt; | Order.Quantity &lt;int&gt; | Sales &lt;dbl&gt; | Profit &lt;dbl&gt; | Shipping.Cost &lt;dbl&gt; | ⋯ ⋯ | Customer_ID &lt;int&gt; | Customer.Name &lt;chr&gt; | Region &lt;chr&gt; | State &lt;chr&gt; | Country...Region &lt;chr&gt; | City &lt;chr&gt; | Postal.Code &lt;int&gt; | Ship.Date &lt;chr&gt; | Ship.Mode &lt;chr&gt; | SubRegion &lt;chr&gt; |\n|---|---|---|---|---|---|---|---|---|---|---|---|---|---|---|---|---|---|---|---|---|---|\n| 1 | 1 | High          | 01/01/2010 | 28774 | 10% |   6 | 32 |  172.80 |  106.36 |  5 | ⋯ | 1656 | Joy Corbett | AsiaPac       | Central    | Fiji                     | Suva          |    NA | 02/01/2010 | Regular Air    | <!----> |\n| 2 | 2 | Not Specified | 01/01/2010 | 88028 | 8%  |  96 |  2 |  176.64 |   45.64 | 35 | ⋯ | 2211 | Anita Hahn  | North America | Maryland   | United States of America | Bowie         | 20715 | 03/01/2010 | Express Air    | East                                                                                                                                                                                                                                                            |\n| 3 | 3 | Critical      | 02/01/2010 |  9285 | 6%  |  41 |  3 |  115.62 |   33.90 |  3 | ⋯ |  949 | Ernest Oh   | North America | California | United States of America | Los Angeles   | 90049 | 04/01/2010 | Regular Air    | West                                                                                                                                                                                                                                                            |\n| 4 | 4 | Low           | 02/01/2010 | 37537 | 0%  | 292 |  4 | 1168.00 |  605.08 | 49 | ⋯ |   68 | Scott Bunn  | North America | New York   | United States of America | New York City | 10177 | 02/01/2010 | Delivery Truck | East                                                                                                                                                                                                                                                            |\n| 5 | 5 | Low           | 02/01/2010 | 37537 | 7%  | 101 | 43 | 4038.99 | 2647.66 | 45 | ⋯ |   68 | Scott Bunn  | North America | New York   | United States of America | New York City | 10177 | 04/01/2010 | Delivery Truck | East                                                                                                                                                                                                                                                            |\n| 6 | 6 | Low           | 02/01/2010 | 37537 | 5%  | 155 | 32 | 4712.00 | 2671.40 |  7 | ⋯ |   68 | Scott Bunn  | North America | New York   | United States of America | New York City | 10177 | 09/01/2010 | Regular Air    | East                                                                                                                                                                                                                                                            |\n\n",
            "text/html": [
              "<table class=\"dataframe\">\n",
              "<caption>A data.frame: 6 × 26</caption>\n",
              "<thead>\n",
              "\t<tr><th></th><th scope=col>Row</th><th scope=col>Order.Priority</th><th scope=col>Order.Date</th><th scope=col>Order</th><th scope=col>Discount</th><th scope=col>Unit.Price</th><th scope=col>Order.Quantity</th><th scope=col>Sales</th><th scope=col>Profit</th><th scope=col>Shipping.Cost</th><th scope=col>⋯</th><th scope=col>Customer_ID</th><th scope=col>Customer.Name</th><th scope=col>Region</th><th scope=col>State</th><th scope=col>Country...Region</th><th scope=col>City</th><th scope=col>Postal.Code</th><th scope=col>Ship.Date</th><th scope=col>Ship.Mode</th><th scope=col>SubRegion</th></tr>\n",
              "\t<tr><th></th><th scope=col>&lt;int&gt;</th><th scope=col>&lt;chr&gt;</th><th scope=col>&lt;chr&gt;</th><th scope=col>&lt;int&gt;</th><th scope=col>&lt;chr&gt;</th><th scope=col>&lt;dbl&gt;</th><th scope=col>&lt;int&gt;</th><th scope=col>&lt;dbl&gt;</th><th scope=col>&lt;dbl&gt;</th><th scope=col>&lt;dbl&gt;</th><th scope=col>⋯</th><th scope=col>&lt;int&gt;</th><th scope=col>&lt;chr&gt;</th><th scope=col>&lt;chr&gt;</th><th scope=col>&lt;chr&gt;</th><th scope=col>&lt;chr&gt;</th><th scope=col>&lt;chr&gt;</th><th scope=col>&lt;int&gt;</th><th scope=col>&lt;chr&gt;</th><th scope=col>&lt;chr&gt;</th><th scope=col>&lt;chr&gt;</th></tr>\n",
              "</thead>\n",
              "<tbody>\n",
              "\t<tr><th scope=row>1</th><td>1</td><td>High         </td><td>01/01/2010</td><td>28774</td><td>10%</td><td>  6</td><td>32</td><td> 172.80</td><td> 106.36</td><td> 5</td><td>⋯</td><td>1656</td><td>Joy Corbett</td><td>AsiaPac      </td><td>Central   </td><td>Fiji                    </td><td>Suva         </td><td>   NA</td><td>02/01/2010</td><td>Regular Air   </td><td>                                                                                                                                                                                                                                                               </td></tr>\n",
              "\t<tr><th scope=row>2</th><td>2</td><td>Not Specified</td><td>01/01/2010</td><td>88028</td><td>8% </td><td> 96</td><td> 2</td><td> 176.64</td><td>  45.64</td><td>35</td><td>⋯</td><td>2211</td><td>Anita Hahn </td><td>North America</td><td>Maryland  </td><td>United States of America</td><td>Bowie        </td><td>20715</td><td>03/01/2010</td><td>Express Air   </td><td>East                                                                                                                                                                                                                                                           </td></tr>\n",
              "\t<tr><th scope=row>3</th><td>3</td><td>Critical     </td><td>02/01/2010</td><td> 9285</td><td>6% </td><td> 41</td><td> 3</td><td> 115.62</td><td>  33.90</td><td> 3</td><td>⋯</td><td> 949</td><td>Ernest Oh  </td><td>North America</td><td>California</td><td>United States of America</td><td>Los Angeles  </td><td>90049</td><td>04/01/2010</td><td>Regular Air   </td><td>West                                                                                                                                                                                                                                                           </td></tr>\n",
              "\t<tr><th scope=row>4</th><td>4</td><td>Low          </td><td>02/01/2010</td><td>37537</td><td>0% </td><td>292</td><td> 4</td><td>1168.00</td><td> 605.08</td><td>49</td><td>⋯</td><td>  68</td><td>Scott Bunn </td><td>North America</td><td>New York  </td><td>United States of America</td><td>New York City</td><td>10177</td><td>02/01/2010</td><td>Delivery Truck</td><td>East                                                                                                                                                                                                                                                           </td></tr>\n",
              "\t<tr><th scope=row>5</th><td>5</td><td>Low          </td><td>02/01/2010</td><td>37537</td><td>7% </td><td>101</td><td>43</td><td>4038.99</td><td>2647.66</td><td>45</td><td>⋯</td><td>  68</td><td>Scott Bunn </td><td>North America</td><td>New York  </td><td>United States of America</td><td>New York City</td><td>10177</td><td>04/01/2010</td><td>Delivery Truck</td><td>East                                                                                                                                                                                                                                                           </td></tr>\n",
              "\t<tr><th scope=row>6</th><td>6</td><td>Low          </td><td>02/01/2010</td><td>37537</td><td>5% </td><td>155</td><td>32</td><td>4712.00</td><td>2671.40</td><td> 7</td><td>⋯</td><td>  68</td><td>Scott Bunn </td><td>North America</td><td>New York  </td><td>United States of America</td><td>New York City</td><td>10177</td><td>09/01/2010</td><td>Regular Air   </td><td>East                                                                                                                                                                                                                                                           </td></tr>\n",
              "</tbody>\n",
              "</table>\n"
            ]
          },
          "metadata": {}
        }
      ]
    },
    {
      "cell_type": "markdown",
      "metadata": {
        "id": "DlY4dKOrC81x"
      },
      "source": [
        "**Raul**"
      ]
    },
    {
      "cell_type": "code",
      "metadata": {
        "id": "_BW82xEEC-Hk"
      },
      "source": [
        "raul_df <- read.csv(\"https://raw.githubusercontent.com/raulFuzita/cct-project-muhammad-ca/main/sales-3%20SuperstoreSalesTraining.csv\")"
      ],
      "execution_count": null,
      "outputs": []
    },
    {
      "cell_type": "code",
      "metadata": {
        "colab": {
          "base_uri": "https://localhost:8080/",
          "height": 439
        },
        "id": "P1-ZXQA9DFud",
        "outputId": "495040ab-0d93-4924-b1cc-9ee4203fe976"
      },
      "source": [
        "head(raul_df)"
      ],
      "execution_count": null,
      "outputs": [
        {
          "output_type": "display_data",
          "data": {
            "text/plain": [
              "  Row Order.Priority Order.Date Order Discount Unit.Price Order.Quantity\n",
              "1 1   High           01/01/2010 28774 10%        6        32            \n",
              "2 2   Not Specified  01/01/2010 88028 8%        96         2            \n",
              "3 3   Critical       02/01/2010  9285 6%        41         3            \n",
              "4 4   Low            02/01/2010 37537 0%       292         4            \n",
              "5 5   Low            02/01/2010 37537 7%       101        43            \n",
              "6 6   Low            02/01/2010 37537 5%       155        32            \n",
              "  Sales   Profit  Shipping.Cost ⋯ Customer_ID Customer.Name Region       \n",
              "1  172.80  106.36  5            ⋯ 1656        Joy Corbett   AsiaPac      \n",
              "2  176.64   45.64 35            ⋯ 2211        Anita Hahn    North America\n",
              "3  115.62   33.90  3            ⋯  949        Ernest Oh     North America\n",
              "4 1168.00  605.08 49            ⋯   68        Scott Bunn    North America\n",
              "5 4038.99 2647.66 45            ⋯   68        Scott Bunn    North America\n",
              "6 4712.00 2671.40  7            ⋯   68        Scott Bunn    North America\n",
              "  State      Country...Region         City          Postal.Code Ship.Date \n",
              "1 Central    Fiji                     Suva             NA       02/01/2010\n",
              "2 Maryland   United States of America Bowie         20715       03/01/2010\n",
              "3 California United States of America Los Angeles   90049       04/01/2010\n",
              "4 New York   United States of America New York City 10177       02/01/2010\n",
              "5 New York   United States of America New York City 10177       04/01/2010\n",
              "6 New York   United States of America New York City 10177       09/01/2010\n",
              "  Ship.Mode     \n",
              "1 Regular Air   \n",
              "2 Express Air   \n",
              "3 Regular Air   \n",
              "4 Delivery Truck\n",
              "5 Delivery Truck\n",
              "6 Regular Air   \n",
              "  SubRegion                                                                                                                                                                                                                                                      \n",
              "1                                                                                                                                                                                                                                                                \n",
              "2 East                                                                                                                                                                                                                                                           \n",
              "3 West                                                                                                                                                                                                                                                           \n",
              "4 East                                                                                                                                                                                                                                                           \n",
              "5 East                                                                                                                                                                                                                                                           \n",
              "6 East                                                                                                                                                                                                                                                           "
            ],
            "text/latex": "A data.frame: 6 × 26\n\\begin{tabular}{r|lllllllllllllllllllll}\n  & Row & Order.Priority & Order.Date & Order & Discount & Unit.Price & Order.Quantity & Sales & Profit & Shipping.Cost & ⋯ & Customer\\_ID & Customer.Name & Region & State & Country...Region & City & Postal.Code & Ship.Date & Ship.Mode & SubRegion\\\\\n  & <int> & <chr> & <chr> & <int> & <chr> & <dbl> & <int> & <dbl> & <dbl> & <dbl> & ⋯ & <int> & <chr> & <chr> & <chr> & <chr> & <chr> & <int> & <chr> & <chr> & <chr>\\\\\n\\hline\n\t1 & 1 & High          & 01/01/2010 & 28774 & 10\\% &   6 & 32 &  172.80 &  106.36 &  5 & ⋯ & 1656 & Joy Corbett & AsiaPac       & Central    & Fiji                     & Suva          &    NA & 02/01/2010 & Regular Air    &                                                                                                                                                                                                                                                                \\\\\n\t2 & 2 & Not Specified & 01/01/2010 & 88028 & 8\\%  &  96 &  2 &  176.64 &   45.64 & 35 & ⋯ & 2211 & Anita Hahn  & North America & Maryland   & United States of America & Bowie         & 20715 & 03/01/2010 & Express Air    & East                                                                                                                                                                                                                                                           \\\\\n\t3 & 3 & Critical      & 02/01/2010 &  9285 & 6\\%  &  41 &  3 &  115.62 &   33.90 &  3 & ⋯ &  949 & Ernest Oh   & North America & California & United States of America & Los Angeles   & 90049 & 04/01/2010 & Regular Air    & West                                                                                                                                                                                                                                                           \\\\\n\t4 & 4 & Low           & 02/01/2010 & 37537 & 0\\%  & 292 &  4 & 1168.00 &  605.08 & 49 & ⋯ &   68 & Scott Bunn  & North America & New York   & United States of America & New York City & 10177 & 02/01/2010 & Delivery Truck & East                                                                                                                                                                                                                                                           \\\\\n\t5 & 5 & Low           & 02/01/2010 & 37537 & 7\\%  & 101 & 43 & 4038.99 & 2647.66 & 45 & ⋯ &   68 & Scott Bunn  & North America & New York   & United States of America & New York City & 10177 & 04/01/2010 & Delivery Truck & East                                                                                                                                                                                                                                                           \\\\\n\t6 & 6 & Low           & 02/01/2010 & 37537 & 5\\%  & 155 & 32 & 4712.00 & 2671.40 &  7 & ⋯ &   68 & Scott Bunn  & North America & New York   & United States of America & New York City & 10177 & 09/01/2010 & Regular Air    & East                                                                                                                                                                                                                                                           \\\\\n\\end{tabular}\n",
            "text/markdown": "\nA data.frame: 6 × 26\n\n| <!--/--> | Row &lt;int&gt; | Order.Priority &lt;chr&gt; | Order.Date &lt;chr&gt; | Order &lt;int&gt; | Discount &lt;chr&gt; | Unit.Price &lt;dbl&gt; | Order.Quantity &lt;int&gt; | Sales &lt;dbl&gt; | Profit &lt;dbl&gt; | Shipping.Cost &lt;dbl&gt; | ⋯ ⋯ | Customer_ID &lt;int&gt; | Customer.Name &lt;chr&gt; | Region &lt;chr&gt; | State &lt;chr&gt; | Country...Region &lt;chr&gt; | City &lt;chr&gt; | Postal.Code &lt;int&gt; | Ship.Date &lt;chr&gt; | Ship.Mode &lt;chr&gt; | SubRegion &lt;chr&gt; |\n|---|---|---|---|---|---|---|---|---|---|---|---|---|---|---|---|---|---|---|---|---|---|\n| 1 | 1 | High          | 01/01/2010 | 28774 | 10% |   6 | 32 |  172.80 |  106.36 |  5 | ⋯ | 1656 | Joy Corbett | AsiaPac       | Central    | Fiji                     | Suva          |    NA | 02/01/2010 | Regular Air    | <!----> |\n| 2 | 2 | Not Specified | 01/01/2010 | 88028 | 8%  |  96 |  2 |  176.64 |   45.64 | 35 | ⋯ | 2211 | Anita Hahn  | North America | Maryland   | United States of America | Bowie         | 20715 | 03/01/2010 | Express Air    | East                                                                                                                                                                                                                                                            |\n| 3 | 3 | Critical      | 02/01/2010 |  9285 | 6%  |  41 |  3 |  115.62 |   33.90 |  3 | ⋯ |  949 | Ernest Oh   | North America | California | United States of America | Los Angeles   | 90049 | 04/01/2010 | Regular Air    | West                                                                                                                                                                                                                                                            |\n| 4 | 4 | Low           | 02/01/2010 | 37537 | 0%  | 292 |  4 | 1168.00 |  605.08 | 49 | ⋯ |   68 | Scott Bunn  | North America | New York   | United States of America | New York City | 10177 | 02/01/2010 | Delivery Truck | East                                                                                                                                                                                                                                                            |\n| 5 | 5 | Low           | 02/01/2010 | 37537 | 7%  | 101 | 43 | 4038.99 | 2647.66 | 45 | ⋯ |   68 | Scott Bunn  | North America | New York   | United States of America | New York City | 10177 | 04/01/2010 | Delivery Truck | East                                                                                                                                                                                                                                                            |\n| 6 | 6 | Low           | 02/01/2010 | 37537 | 5%  | 155 | 32 | 4712.00 | 2671.40 |  7 | ⋯ |   68 | Scott Bunn  | North America | New York   | United States of America | New York City | 10177 | 09/01/2010 | Regular Air    | East                                                                                                                                                                                                                                                            |\n\n",
            "text/html": [
              "<table class=\"dataframe\">\n",
              "<caption>A data.frame: 6 × 26</caption>\n",
              "<thead>\n",
              "\t<tr><th></th><th scope=col>Row</th><th scope=col>Order.Priority</th><th scope=col>Order.Date</th><th scope=col>Order</th><th scope=col>Discount</th><th scope=col>Unit.Price</th><th scope=col>Order.Quantity</th><th scope=col>Sales</th><th scope=col>Profit</th><th scope=col>Shipping.Cost</th><th scope=col>⋯</th><th scope=col>Customer_ID</th><th scope=col>Customer.Name</th><th scope=col>Region</th><th scope=col>State</th><th scope=col>Country...Region</th><th scope=col>City</th><th scope=col>Postal.Code</th><th scope=col>Ship.Date</th><th scope=col>Ship.Mode</th><th scope=col>SubRegion</th></tr>\n",
              "\t<tr><th></th><th scope=col>&lt;int&gt;</th><th scope=col>&lt;chr&gt;</th><th scope=col>&lt;chr&gt;</th><th scope=col>&lt;int&gt;</th><th scope=col>&lt;chr&gt;</th><th scope=col>&lt;dbl&gt;</th><th scope=col>&lt;int&gt;</th><th scope=col>&lt;dbl&gt;</th><th scope=col>&lt;dbl&gt;</th><th scope=col>&lt;dbl&gt;</th><th scope=col>⋯</th><th scope=col>&lt;int&gt;</th><th scope=col>&lt;chr&gt;</th><th scope=col>&lt;chr&gt;</th><th scope=col>&lt;chr&gt;</th><th scope=col>&lt;chr&gt;</th><th scope=col>&lt;chr&gt;</th><th scope=col>&lt;int&gt;</th><th scope=col>&lt;chr&gt;</th><th scope=col>&lt;chr&gt;</th><th scope=col>&lt;chr&gt;</th></tr>\n",
              "</thead>\n",
              "<tbody>\n",
              "\t<tr><th scope=row>1</th><td>1</td><td>High         </td><td>01/01/2010</td><td>28774</td><td>10%</td><td>  6</td><td>32</td><td> 172.80</td><td> 106.36</td><td> 5</td><td>⋯</td><td>1656</td><td>Joy Corbett</td><td>AsiaPac      </td><td>Central   </td><td>Fiji                    </td><td>Suva         </td><td>   NA</td><td>02/01/2010</td><td>Regular Air   </td><td>                                                                                                                                                                                                                                                               </td></tr>\n",
              "\t<tr><th scope=row>2</th><td>2</td><td>Not Specified</td><td>01/01/2010</td><td>88028</td><td>8% </td><td> 96</td><td> 2</td><td> 176.64</td><td>  45.64</td><td>35</td><td>⋯</td><td>2211</td><td>Anita Hahn </td><td>North America</td><td>Maryland  </td><td>United States of America</td><td>Bowie        </td><td>20715</td><td>03/01/2010</td><td>Express Air   </td><td>East                                                                                                                                                                                                                                                           </td></tr>\n",
              "\t<tr><th scope=row>3</th><td>3</td><td>Critical     </td><td>02/01/2010</td><td> 9285</td><td>6% </td><td> 41</td><td> 3</td><td> 115.62</td><td>  33.90</td><td> 3</td><td>⋯</td><td> 949</td><td>Ernest Oh  </td><td>North America</td><td>California</td><td>United States of America</td><td>Los Angeles  </td><td>90049</td><td>04/01/2010</td><td>Regular Air   </td><td>West                                                                                                                                                                                                                                                           </td></tr>\n",
              "\t<tr><th scope=row>4</th><td>4</td><td>Low          </td><td>02/01/2010</td><td>37537</td><td>0% </td><td>292</td><td> 4</td><td>1168.00</td><td> 605.08</td><td>49</td><td>⋯</td><td>  68</td><td>Scott Bunn </td><td>North America</td><td>New York  </td><td>United States of America</td><td>New York City</td><td>10177</td><td>02/01/2010</td><td>Delivery Truck</td><td>East                                                                                                                                                                                                                                                           </td></tr>\n",
              "\t<tr><th scope=row>5</th><td>5</td><td>Low          </td><td>02/01/2010</td><td>37537</td><td>7% </td><td>101</td><td>43</td><td>4038.99</td><td>2647.66</td><td>45</td><td>⋯</td><td>  68</td><td>Scott Bunn </td><td>North America</td><td>New York  </td><td>United States of America</td><td>New York City</td><td>10177</td><td>04/01/2010</td><td>Delivery Truck</td><td>East                                                                                                                                                                                                                                                           </td></tr>\n",
              "\t<tr><th scope=row>6</th><td>6</td><td>Low          </td><td>02/01/2010</td><td>37537</td><td>5% </td><td>155</td><td>32</td><td>4712.00</td><td>2671.40</td><td> 7</td><td>⋯</td><td>  68</td><td>Scott Bunn </td><td>North America</td><td>New York  </td><td>United States of America</td><td>New York City</td><td>10177</td><td>09/01/2010</td><td>Regular Air   </td><td>East                                                                                                                                                                                                                                                           </td></tr>\n",
              "</tbody>\n",
              "</table>\n"
            ]
          },
          "metadata": {}
        }
      ]
    },
    {
      "cell_type": "markdown",
      "metadata": {
        "id": "RpGu3G5BHS0I"
      },
      "source": [
        "## Importing Dataset to the Assessment Task"
      ]
    },
    {
      "cell_type": "code",
      "metadata": {
        "colab": {
          "base_uri": "https://localhost:8080/",
          "height": 34
        },
        "id": "Zz4b-bMmb98q",
        "outputId": "dcb809c5-2cff-4bc1-c782-4bf5b37c3b08"
      },
      "source": [
        "R.Version()$version.string"
      ],
      "execution_count": 189,
      "outputs": [
        {
          "output_type": "display_data",
          "data": {
            "text/plain": [
              "[1] \"R version 4.1.1 (2021-08-10)\""
            ],
            "text/latex": "'R version 4.1.1 (2021-08-10)'",
            "text/markdown": "'R version 4.1.1 (2021-08-10)'",
            "text/html": [
              "'R version 4.1.1 (2021-08-10)'"
            ]
          },
          "metadata": {}
        }
      ]
    },
    {
      "cell_type": "code",
      "metadata": {
        "id": "JWgHovvsHYth"
      },
      "source": [
        "# df stands for Data Frame\n",
        "# Done by Raul\n",
        "df <- read.csv(\"https://raw.githubusercontent.com/raulFuzita/cct-project-muhammad-ca/main/sales-3%20SuperstoreSalesTraining.csv\")"
      ],
      "execution_count": 1,
      "outputs": []
    },
    {
      "cell_type": "code",
      "metadata": {
        "colab": {
          "base_uri": "https://localhost:8080/",
          "height": 439
        },
        "id": "g9sIY2VUIj_P",
        "outputId": "473879ce-0444-4763-f386-6d3ef014f019"
      },
      "source": [
        "# Done by Luiz\n",
        "head(df)"
      ],
      "execution_count": 2,
      "outputs": [
        {
          "output_type": "display_data",
          "data": {
            "text/plain": [
              "  Row Order.Priority Order.Date Order Discount Unit.Price Order.Quantity\n",
              "1 1   High           01/01/2010 28774 10%        6        32            \n",
              "2 2   Not Specified  01/01/2010 88028 8%        96         2            \n",
              "3 3   Critical       02/01/2010  9285 6%        41         3            \n",
              "4 4   Low            02/01/2010 37537 0%       292         4            \n",
              "5 5   Low            02/01/2010 37537 7%       101        43            \n",
              "6 6   Low            02/01/2010 37537 5%       155        32            \n",
              "  Sales   Profit  Shipping.Cost ⋯ Customer_ID Customer.Name Region       \n",
              "1  172.80  106.36  5            ⋯ 1656        Joy Corbett   AsiaPac      \n",
              "2  176.64   45.64 35            ⋯ 2211        Anita Hahn    North America\n",
              "3  115.62   33.90  3            ⋯  949        Ernest Oh     North America\n",
              "4 1168.00  605.08 49            ⋯   68        Scott Bunn    North America\n",
              "5 4038.99 2647.66 45            ⋯   68        Scott Bunn    North America\n",
              "6 4712.00 2671.40  7            ⋯   68        Scott Bunn    North America\n",
              "  State      Country...Region         City          Postal.Code Ship.Date \n",
              "1 Central    Fiji                     Suva             NA       02/01/2010\n",
              "2 Maryland   United States of America Bowie         20715       03/01/2010\n",
              "3 California United States of America Los Angeles   90049       04/01/2010\n",
              "4 New York   United States of America New York City 10177       02/01/2010\n",
              "5 New York   United States of America New York City 10177       04/01/2010\n",
              "6 New York   United States of America New York City 10177       09/01/2010\n",
              "  Ship.Mode     \n",
              "1 Regular Air   \n",
              "2 Express Air   \n",
              "3 Regular Air   \n",
              "4 Delivery Truck\n",
              "5 Delivery Truck\n",
              "6 Regular Air   \n",
              "  SubRegion                                                                                                                                                                                                                                                      \n",
              "1                                                                                                                                                                                                                                                                \n",
              "2 East                                                                                                                                                                                                                                                           \n",
              "3 West                                                                                                                                                                                                                                                           \n",
              "4 East                                                                                                                                                                                                                                                           \n",
              "5 East                                                                                                                                                                                                                                                           \n",
              "6 East                                                                                                                                                                                                                                                           "
            ],
            "text/latex": "A data.frame: 6 × 26\n\\begin{tabular}{r|lllllllllllllllllllll}\n  & Row & Order.Priority & Order.Date & Order & Discount & Unit.Price & Order.Quantity & Sales & Profit & Shipping.Cost & ⋯ & Customer\\_ID & Customer.Name & Region & State & Country...Region & City & Postal.Code & Ship.Date & Ship.Mode & SubRegion\\\\\n  & <int> & <chr> & <chr> & <int> & <chr> & <dbl> & <int> & <dbl> & <dbl> & <dbl> & ⋯ & <int> & <chr> & <chr> & <chr> & <chr> & <chr> & <int> & <chr> & <chr> & <chr>\\\\\n\\hline\n\t1 & 1 & High          & 01/01/2010 & 28774 & 10\\% &   6 & 32 &  172.80 &  106.36 &  5 & ⋯ & 1656 & Joy Corbett & AsiaPac       & Central    & Fiji                     & Suva          &    NA & 02/01/2010 & Regular Air    &                                                                                                                                                                                                                                                                \\\\\n\t2 & 2 & Not Specified & 01/01/2010 & 88028 & 8\\%  &  96 &  2 &  176.64 &   45.64 & 35 & ⋯ & 2211 & Anita Hahn  & North America & Maryland   & United States of America & Bowie         & 20715 & 03/01/2010 & Express Air    & East                                                                                                                                                                                                                                                           \\\\\n\t3 & 3 & Critical      & 02/01/2010 &  9285 & 6\\%  &  41 &  3 &  115.62 &   33.90 &  3 & ⋯ &  949 & Ernest Oh   & North America & California & United States of America & Los Angeles   & 90049 & 04/01/2010 & Regular Air    & West                                                                                                                                                                                                                                                           \\\\\n\t4 & 4 & Low           & 02/01/2010 & 37537 & 0\\%  & 292 &  4 & 1168.00 &  605.08 & 49 & ⋯ &   68 & Scott Bunn  & North America & New York   & United States of America & New York City & 10177 & 02/01/2010 & Delivery Truck & East                                                                                                                                                                                                                                                           \\\\\n\t5 & 5 & Low           & 02/01/2010 & 37537 & 7\\%  & 101 & 43 & 4038.99 & 2647.66 & 45 & ⋯ &   68 & Scott Bunn  & North America & New York   & United States of America & New York City & 10177 & 04/01/2010 & Delivery Truck & East                                                                                                                                                                                                                                                           \\\\\n\t6 & 6 & Low           & 02/01/2010 & 37537 & 5\\%  & 155 & 32 & 4712.00 & 2671.40 &  7 & ⋯ &   68 & Scott Bunn  & North America & New York   & United States of America & New York City & 10177 & 09/01/2010 & Regular Air    & East                                                                                                                                                                                                                                                           \\\\\n\\end{tabular}\n",
            "text/markdown": "\nA data.frame: 6 × 26\n\n| <!--/--> | Row &lt;int&gt; | Order.Priority &lt;chr&gt; | Order.Date &lt;chr&gt; | Order &lt;int&gt; | Discount &lt;chr&gt; | Unit.Price &lt;dbl&gt; | Order.Quantity &lt;int&gt; | Sales &lt;dbl&gt; | Profit &lt;dbl&gt; | Shipping.Cost &lt;dbl&gt; | ⋯ ⋯ | Customer_ID &lt;int&gt; | Customer.Name &lt;chr&gt; | Region &lt;chr&gt; | State &lt;chr&gt; | Country...Region &lt;chr&gt; | City &lt;chr&gt; | Postal.Code &lt;int&gt; | Ship.Date &lt;chr&gt; | Ship.Mode &lt;chr&gt; | SubRegion &lt;chr&gt; |\n|---|---|---|---|---|---|---|---|---|---|---|---|---|---|---|---|---|---|---|---|---|---|\n| 1 | 1 | High          | 01/01/2010 | 28774 | 10% |   6 | 32 |  172.80 |  106.36 |  5 | ⋯ | 1656 | Joy Corbett | AsiaPac       | Central    | Fiji                     | Suva          |    NA | 02/01/2010 | Regular Air    | <!----> |\n| 2 | 2 | Not Specified | 01/01/2010 | 88028 | 8%  |  96 |  2 |  176.64 |   45.64 | 35 | ⋯ | 2211 | Anita Hahn  | North America | Maryland   | United States of America | Bowie         | 20715 | 03/01/2010 | Express Air    | East                                                                                                                                                                                                                                                            |\n| 3 | 3 | Critical      | 02/01/2010 |  9285 | 6%  |  41 |  3 |  115.62 |   33.90 |  3 | ⋯ |  949 | Ernest Oh   | North America | California | United States of America | Los Angeles   | 90049 | 04/01/2010 | Regular Air    | West                                                                                                                                                                                                                                                            |\n| 4 | 4 | Low           | 02/01/2010 | 37537 | 0%  | 292 |  4 | 1168.00 |  605.08 | 49 | ⋯ |   68 | Scott Bunn  | North America | New York   | United States of America | New York City | 10177 | 02/01/2010 | Delivery Truck | East                                                                                                                                                                                                                                                            |\n| 5 | 5 | Low           | 02/01/2010 | 37537 | 7%  | 101 | 43 | 4038.99 | 2647.66 | 45 | ⋯ |   68 | Scott Bunn  | North America | New York   | United States of America | New York City | 10177 | 04/01/2010 | Delivery Truck | East                                                                                                                                                                                                                                                            |\n| 6 | 6 | Low           | 02/01/2010 | 37537 | 5%  | 155 | 32 | 4712.00 | 2671.40 |  7 | ⋯ |   68 | Scott Bunn  | North America | New York   | United States of America | New York City | 10177 | 09/01/2010 | Regular Air    | East                                                                                                                                                                                                                                                            |\n\n",
            "text/html": [
              "<table class=\"dataframe\">\n",
              "<caption>A data.frame: 6 × 26</caption>\n",
              "<thead>\n",
              "\t<tr><th></th><th scope=col>Row</th><th scope=col>Order.Priority</th><th scope=col>Order.Date</th><th scope=col>Order</th><th scope=col>Discount</th><th scope=col>Unit.Price</th><th scope=col>Order.Quantity</th><th scope=col>Sales</th><th scope=col>Profit</th><th scope=col>Shipping.Cost</th><th scope=col>⋯</th><th scope=col>Customer_ID</th><th scope=col>Customer.Name</th><th scope=col>Region</th><th scope=col>State</th><th scope=col>Country...Region</th><th scope=col>City</th><th scope=col>Postal.Code</th><th scope=col>Ship.Date</th><th scope=col>Ship.Mode</th><th scope=col>SubRegion</th></tr>\n",
              "\t<tr><th></th><th scope=col>&lt;int&gt;</th><th scope=col>&lt;chr&gt;</th><th scope=col>&lt;chr&gt;</th><th scope=col>&lt;int&gt;</th><th scope=col>&lt;chr&gt;</th><th scope=col>&lt;dbl&gt;</th><th scope=col>&lt;int&gt;</th><th scope=col>&lt;dbl&gt;</th><th scope=col>&lt;dbl&gt;</th><th scope=col>&lt;dbl&gt;</th><th scope=col>⋯</th><th scope=col>&lt;int&gt;</th><th scope=col>&lt;chr&gt;</th><th scope=col>&lt;chr&gt;</th><th scope=col>&lt;chr&gt;</th><th scope=col>&lt;chr&gt;</th><th scope=col>&lt;chr&gt;</th><th scope=col>&lt;int&gt;</th><th scope=col>&lt;chr&gt;</th><th scope=col>&lt;chr&gt;</th><th scope=col>&lt;chr&gt;</th></tr>\n",
              "</thead>\n",
              "<tbody>\n",
              "\t<tr><th scope=row>1</th><td>1</td><td>High         </td><td>01/01/2010</td><td>28774</td><td>10%</td><td>  6</td><td>32</td><td> 172.80</td><td> 106.36</td><td> 5</td><td>⋯</td><td>1656</td><td>Joy Corbett</td><td>AsiaPac      </td><td>Central   </td><td>Fiji                    </td><td>Suva         </td><td>   NA</td><td>02/01/2010</td><td>Regular Air   </td><td>                                                                                                                                                                                                                                                               </td></tr>\n",
              "\t<tr><th scope=row>2</th><td>2</td><td>Not Specified</td><td>01/01/2010</td><td>88028</td><td>8% </td><td> 96</td><td> 2</td><td> 176.64</td><td>  45.64</td><td>35</td><td>⋯</td><td>2211</td><td>Anita Hahn </td><td>North America</td><td>Maryland  </td><td>United States of America</td><td>Bowie        </td><td>20715</td><td>03/01/2010</td><td>Express Air   </td><td>East                                                                                                                                                                                                                                                           </td></tr>\n",
              "\t<tr><th scope=row>3</th><td>3</td><td>Critical     </td><td>02/01/2010</td><td> 9285</td><td>6% </td><td> 41</td><td> 3</td><td> 115.62</td><td>  33.90</td><td> 3</td><td>⋯</td><td> 949</td><td>Ernest Oh  </td><td>North America</td><td>California</td><td>United States of America</td><td>Los Angeles  </td><td>90049</td><td>04/01/2010</td><td>Regular Air   </td><td>West                                                                                                                                                                                                                                                           </td></tr>\n",
              "\t<tr><th scope=row>4</th><td>4</td><td>Low          </td><td>02/01/2010</td><td>37537</td><td>0% </td><td>292</td><td> 4</td><td>1168.00</td><td> 605.08</td><td>49</td><td>⋯</td><td>  68</td><td>Scott Bunn </td><td>North America</td><td>New York  </td><td>United States of America</td><td>New York City</td><td>10177</td><td>02/01/2010</td><td>Delivery Truck</td><td>East                                                                                                                                                                                                                                                           </td></tr>\n",
              "\t<tr><th scope=row>5</th><td>5</td><td>Low          </td><td>02/01/2010</td><td>37537</td><td>7% </td><td>101</td><td>43</td><td>4038.99</td><td>2647.66</td><td>45</td><td>⋯</td><td>  68</td><td>Scott Bunn </td><td>North America</td><td>New York  </td><td>United States of America</td><td>New York City</td><td>10177</td><td>04/01/2010</td><td>Delivery Truck</td><td>East                                                                                                                                                                                                                                                           </td></tr>\n",
              "\t<tr><th scope=row>6</th><td>6</td><td>Low          </td><td>02/01/2010</td><td>37537</td><td>5% </td><td>155</td><td>32</td><td>4712.00</td><td>2671.40</td><td> 7</td><td>⋯</td><td>  68</td><td>Scott Bunn </td><td>North America</td><td>New York  </td><td>United States of America</td><td>New York City</td><td>10177</td><td>09/01/2010</td><td>Regular Air   </td><td>East                                                                                                                                                                                                                                                           </td></tr>\n",
              "</tbody>\n",
              "</table>\n"
            ]
          },
          "metadata": {}
        }
      ]
    },
    {
      "cell_type": "code",
      "metadata": {
        "colab": {
          "base_uri": "https://localhost:8080/",
          "height": 34
        },
        "id": "ZpRlMX15zjOx",
        "outputId": "fa5f9a06-4032-41c9-baf3-bc128ad3a616"
      },
      "source": [
        "# Our dataset contains more than 10.000 rows and 12 columns\n",
        "dim(df)"
      ],
      "execution_count": 5,
      "outputs": [
        {
          "output_type": "display_data",
          "data": {
            "text/plain": [
              "[1] 16798    26"
            ],
            "text/latex": "\\begin{enumerate*}\n\\item 16798\n\\item 26\n\\end{enumerate*}\n",
            "text/markdown": "1. 16798\n2. 26\n\n\n",
            "text/html": [
              "<style>\n",
              ".list-inline {list-style: none; margin:0; padding: 0}\n",
              ".list-inline>li {display: inline-block}\n",
              ".list-inline>li:not(:last-child)::after {content: \"\\00b7\"; padding: 0 .5ex}\n",
              "</style>\n",
              "<ol class=list-inline><li>16798</li><li>26</li></ol>\n"
            ]
          },
          "metadata": {}
        }
      ]
    },
    {
      "cell_type": "code",
      "metadata": {
        "colab": {
          "base_uri": "https://localhost:8080/",
          "height": 51
        },
        "id": "pvvRqtCA0nd5",
        "outputId": "b10f16bd-6e94-4306-8f4b-b7070f62ca30"
      },
      "source": [
        "# get columns' names\n",
        "colnames(df)"
      ],
      "execution_count": 6,
      "outputs": [
        {
          "output_type": "display_data",
          "data": {
            "text/plain": [
              " [1] \"Row\"                 \"Order.Priority\"      \"Order.Date\"         \n",
              " [4] \"Order\"               \"Discount\"            \"Unit.Price\"         \n",
              " [7] \"Order.Quantity\"      \"Sales\"               \"Profit\"             \n",
              "[10] \"Shipping.Cost\"       \"Product.Base.Margin\" \"Department\"         \n",
              "[13] \"Container\"           \"Category\"            \"Item\"               \n",
              "[16] \"Customer.Segment\"    \"Customer_ID\"         \"Customer.Name\"      \n",
              "[19] \"Region\"              \"State\"               \"Country...Region\"   \n",
              "[22] \"City\"                \"Postal.Code\"         \"Ship.Date\"          \n",
              "[25] \"Ship.Mode\"           \"SubRegion\"          "
            ],
            "text/latex": "\\begin{enumerate*}\n\\item 'Row'\n\\item 'Order.Priority'\n\\item 'Order.Date'\n\\item 'Order'\n\\item 'Discount'\n\\item 'Unit.Price'\n\\item 'Order.Quantity'\n\\item 'Sales'\n\\item 'Profit'\n\\item 'Shipping.Cost'\n\\item 'Product.Base.Margin'\n\\item 'Department'\n\\item 'Container'\n\\item 'Category'\n\\item 'Item'\n\\item 'Customer.Segment'\n\\item 'Customer\\_ID'\n\\item 'Customer.Name'\n\\item 'Region'\n\\item 'State'\n\\item 'Country...Region'\n\\item 'City'\n\\item 'Postal.Code'\n\\item 'Ship.Date'\n\\item 'Ship.Mode'\n\\item 'SubRegion'\n\\end{enumerate*}\n",
            "text/markdown": "1. 'Row'\n2. 'Order.Priority'\n3. 'Order.Date'\n4. 'Order'\n5. 'Discount'\n6. 'Unit.Price'\n7. 'Order.Quantity'\n8. 'Sales'\n9. 'Profit'\n10. 'Shipping.Cost'\n11. 'Product.Base.Margin'\n12. 'Department'\n13. 'Container'\n14. 'Category'\n15. 'Item'\n16. 'Customer.Segment'\n17. 'Customer_ID'\n18. 'Customer.Name'\n19. 'Region'\n20. 'State'\n21. 'Country...Region'\n22. 'City'\n23. 'Postal.Code'\n24. 'Ship.Date'\n25. 'Ship.Mode'\n26. 'SubRegion'\n\n\n",
            "text/html": [
              "<style>\n",
              ".list-inline {list-style: none; margin:0; padding: 0}\n",
              ".list-inline>li {display: inline-block}\n",
              ".list-inline>li:not(:last-child)::after {content: \"\\00b7\"; padding: 0 .5ex}\n",
              "</style>\n",
              "<ol class=list-inline><li>'Row'</li><li>'Order.Priority'</li><li>'Order.Date'</li><li>'Order'</li><li>'Discount'</li><li>'Unit.Price'</li><li>'Order.Quantity'</li><li>'Sales'</li><li>'Profit'</li><li>'Shipping.Cost'</li><li>'Product.Base.Margin'</li><li>'Department'</li><li>'Container'</li><li>'Category'</li><li>'Item'</li><li>'Customer.Segment'</li><li>'Customer_ID'</li><li>'Customer.Name'</li><li>'Region'</li><li>'State'</li><li>'Country...Region'</li><li>'City'</li><li>'Postal.Code'</li><li>'Ship.Date'</li><li>'Ship.Mode'</li><li>'SubRegion'</li></ol>\n"
            ]
          },
          "metadata": {}
        }
      ]
    },
    {
      "cell_type": "markdown",
      "metadata": {
        "id": "tRnqT73BG5zJ"
      },
      "source": [
        "## Assessment Task"
      ]
    },
    {
      "cell_type": "markdown",
      "metadata": {
        "id": "gLcQ_0vXG68v"
      },
      "source": [
        "This is a group-based project (3 - 4 students) using R programming language or any other tool. Analyse a specific problem only in the following areas, such as Sales, CRM, Schools & Colleges, Role-playing game and Music (The dataset should have at least 10000 rows and 12 columns after cleaning and there is not any upper bound). The type of question(s) that you should formulate for the project will depend on the chosen domain of the dataset that your group is considering for Data Exploration and Preparation (DEP) project. The objectives of DEP project are based on the domain knowledge of data. The group would need to complete the following tasks during the development of this group project."
      ]
    },
    {
      "cell_type": "markdown",
      "metadata": {
        "id": "cpuHfA0aG_6h"
      },
      "source": [
        "1.   Identify which variables are categorical, discrete and continuous in the chosen data set and show using some visualization or plot. Explore whether there are missing values for any of the variables."
      ]
    },
    {
      "cell_type": "code",
      "metadata": {
        "id": "SWCmrVs-HFdg"
      },
      "source": [
        ""
      ],
      "execution_count": null,
      "outputs": []
    },
    {
      "cell_type": "markdown",
      "metadata": {
        "id": "zMQo88wxHIR5"
      },
      "source": [
        "2.   Calculate the statistical parameters (mean, median, minimum, maximum, and standard deviation) for each of the numerical variables."
      ]
    },
    {
      "cell_type": "code",
      "metadata": {
        "id": "xIG_EEWtKcYE",
        "colab": {
          "base_uri": "https://localhost:8080/",
          "height": 283
        },
        "outputId": "478a5a3e-9a94-4ea4-e083-759cf802f107"
      },
      "source": [
        "# Get all numerical columns x %>% dplyr::select(where(is.numeric))\n",
        "# link: https://stackoverflow.com/questions/5863097/selecting-only-numeric-columns-from-a-data-frame\n",
        "# Done by Raul\n",
        "library(\"dplyr\")\n",
        "num_only_df <- df %>% dplyr::select(where(is.numeric))\n",
        "num_only_df[is.na(num_only_df)] <- 0\n",
        "head(num_only_df)"
      ],
      "execution_count": 161,
      "outputs": [
        {
          "output_type": "display_data",
          "data": {
            "text/plain": [
              "  Row Order Unit.Price Order.Quantity Sales   Profit  Shipping.Cost Customer_ID\n",
              "1 1   28774   6        32              172.80  106.36  5            1656       \n",
              "2 2   88028  96         2              176.64   45.64 35            2211       \n",
              "3 3    9285  41         3              115.62   33.90  3             949       \n",
              "4 4   37537 292         4             1168.00  605.08 49              68       \n",
              "5 5   37537 101        43             4038.99 2647.66 45              68       \n",
              "6 6   37537 155        32             4712.00 2671.40  7              68       \n",
              "  Postal.Code\n",
              "1     0      \n",
              "2 20715      \n",
              "3 90049      \n",
              "4 10177      \n",
              "5 10177      \n",
              "6 10177      "
            ],
            "text/latex": "A data.frame: 6 × 9\n\\begin{tabular}{r|lllllllll}\n  & Row & Order & Unit.Price & Order.Quantity & Sales & Profit & Shipping.Cost & Customer\\_ID & Postal.Code\\\\\n  & <int> & <int> & <dbl> & <int> & <dbl> & <dbl> & <dbl> & <int> & <dbl>\\\\\n\\hline\n\t1 & 1 & 28774 &   6 & 32 &  172.80 &  106.36 &  5 & 1656 &     0\\\\\n\t2 & 2 & 88028 &  96 &  2 &  176.64 &   45.64 & 35 & 2211 & 20715\\\\\n\t3 & 3 &  9285 &  41 &  3 &  115.62 &   33.90 &  3 &  949 & 90049\\\\\n\t4 & 4 & 37537 & 292 &  4 & 1168.00 &  605.08 & 49 &   68 & 10177\\\\\n\t5 & 5 & 37537 & 101 & 43 & 4038.99 & 2647.66 & 45 &   68 & 10177\\\\\n\t6 & 6 & 37537 & 155 & 32 & 4712.00 & 2671.40 &  7 &   68 & 10177\\\\\n\\end{tabular}\n",
            "text/markdown": "\nA data.frame: 6 × 9\n\n| <!--/--> | Row &lt;int&gt; | Order &lt;int&gt; | Unit.Price &lt;dbl&gt; | Order.Quantity &lt;int&gt; | Sales &lt;dbl&gt; | Profit &lt;dbl&gt; | Shipping.Cost &lt;dbl&gt; | Customer_ID &lt;int&gt; | Postal.Code &lt;dbl&gt; |\n|---|---|---|---|---|---|---|---|---|---|\n| 1 | 1 | 28774 |   6 | 32 |  172.80 |  106.36 |  5 | 1656 |     0 |\n| 2 | 2 | 88028 |  96 |  2 |  176.64 |   45.64 | 35 | 2211 | 20715 |\n| 3 | 3 |  9285 |  41 |  3 |  115.62 |   33.90 |  3 |  949 | 90049 |\n| 4 | 4 | 37537 | 292 |  4 | 1168.00 |  605.08 | 49 |   68 | 10177 |\n| 5 | 5 | 37537 | 101 | 43 | 4038.99 | 2647.66 | 45 |   68 | 10177 |\n| 6 | 6 | 37537 | 155 | 32 | 4712.00 | 2671.40 |  7 |   68 | 10177 |\n\n",
            "text/html": [
              "<table class=\"dataframe\">\n",
              "<caption>A data.frame: 6 × 9</caption>\n",
              "<thead>\n",
              "\t<tr><th></th><th scope=col>Row</th><th scope=col>Order</th><th scope=col>Unit.Price</th><th scope=col>Order.Quantity</th><th scope=col>Sales</th><th scope=col>Profit</th><th scope=col>Shipping.Cost</th><th scope=col>Customer_ID</th><th scope=col>Postal.Code</th></tr>\n",
              "\t<tr><th></th><th scope=col>&lt;int&gt;</th><th scope=col>&lt;int&gt;</th><th scope=col>&lt;dbl&gt;</th><th scope=col>&lt;int&gt;</th><th scope=col>&lt;dbl&gt;</th><th scope=col>&lt;dbl&gt;</th><th scope=col>&lt;dbl&gt;</th><th scope=col>&lt;int&gt;</th><th scope=col>&lt;dbl&gt;</th></tr>\n",
              "</thead>\n",
              "<tbody>\n",
              "\t<tr><th scope=row>1</th><td>1</td><td>28774</td><td>  6</td><td>32</td><td> 172.80</td><td> 106.36</td><td> 5</td><td>1656</td><td>    0</td></tr>\n",
              "\t<tr><th scope=row>2</th><td>2</td><td>88028</td><td> 96</td><td> 2</td><td> 176.64</td><td>  45.64</td><td>35</td><td>2211</td><td>20715</td></tr>\n",
              "\t<tr><th scope=row>3</th><td>3</td><td> 9285</td><td> 41</td><td> 3</td><td> 115.62</td><td>  33.90</td><td> 3</td><td> 949</td><td>90049</td></tr>\n",
              "\t<tr><th scope=row>4</th><td>4</td><td>37537</td><td>292</td><td> 4</td><td>1168.00</td><td> 605.08</td><td>49</td><td>  68</td><td>10177</td></tr>\n",
              "\t<tr><th scope=row>5</th><td>5</td><td>37537</td><td>101</td><td>43</td><td>4038.99</td><td>2647.66</td><td>45</td><td>  68</td><td>10177</td></tr>\n",
              "\t<tr><th scope=row>6</th><td>6</td><td>37537</td><td>155</td><td>32</td><td>4712.00</td><td>2671.40</td><td> 7</td><td>  68</td><td>10177</td></tr>\n",
              "</tbody>\n",
              "</table>\n"
            ]
          },
          "metadata": {}
        }
      ]
    },
    {
      "cell_type": "code",
      "metadata": {
        "colab": {
          "base_uri": "https://localhost:8080/",
          "height": 34
        },
        "id": "vsc0HJTTNE_B",
        "outputId": "c10636f6-a026-439f-957c-98f1bfb7ceab"
      },
      "source": [
        "# Done by Raul\n",
        "any(is.na(num_only_df))"
      ],
      "execution_count": 162,
      "outputs": [
        {
          "output_type": "display_data",
          "data": {
            "text/plain": [
              "[1] FALSE"
            ],
            "text/latex": "FALSE",
            "text/markdown": "FALSE",
            "text/html": [
              "FALSE"
            ]
          },
          "metadata": {}
        }
      ]
    },
    {
      "cell_type": "code",
      "metadata": {
        "colab": {
          "base_uri": "https://localhost:8080/",
          "height": 376
        },
        "id": "Vpfworj2Zakq",
        "outputId": "3de1e7ff-c477-4d9a-f184-87a96bc0b265"
      },
      "source": [
        "# mn <- sapply(num_only_df, mean)\n",
        "# Generating statistical parameters (mean, median, minimum, maximum, and standard deviation)\n",
        "# Done by Raul\n",
        "summarise(num_only_df,\n",
        "  variables = colnames(num_only_df),\n",
        "  mean = sapply(num_only_df, mean), \n",
        "  median = sapply(num_only_df, median), \n",
        "  min = sapply(num_only_df, min),\n",
        "  max = sapply(num_only_df, max),\n",
        "  standard_deviation = sapply(num_only_df, sd)\n",
        ")"
      ],
      "execution_count": 187,
      "outputs": [
        {
          "output_type": "display_data",
          "data": {
            "text/plain": [
              "  variables      mean        median    min      max      standard_deviation\n",
              "1 Row             8399.50000  8399.500     1.00 16798.00  4849.30925       \n",
              "2 Order          59334.67722 72895.500     3.00 91591.00 31827.18325       \n",
              "3 Unit.Price        89.33016    21.000     1.00  6783.00   290.34258       \n",
              "4 Order.Quantity    26.21985    16.000     1.00   288.00    27.18466       \n",
              "5 Sales           1790.06917   336.000     0.90 99130.12  4645.26592       \n",
              "6 Profit           882.14618   133.645 -4301.08 60250.64  2355.55204       \n",
              "7 Shipping.Cost     12.85701     6.000     0.00   165.00    17.25349       \n",
              "8 Customer_ID     1754.26283  1778.000     1.00  3403.00   978.71637       \n",
              "9 Postal.Code    30559.55447 14215.000     0.00 99362.00 34282.17599       "
            ],
            "text/latex": "A data.frame: 9 × 6\n\\begin{tabular}{llllll}\n variables & mean & median & min & max & standard\\_deviation\\\\\n <chr> & <dbl> & <dbl> & <dbl> & <dbl> & <dbl>\\\\\n\\hline\n\t Row            &  8399.50000 &  8399.500 &     1.00 & 16798.00 &  4849.30925\\\\\n\t Order          & 59334.67722 & 72895.500 &     3.00 & 91591.00 & 31827.18325\\\\\n\t Unit.Price     &    89.33016 &    21.000 &     1.00 &  6783.00 &   290.34258\\\\\n\t Order.Quantity &    26.21985 &    16.000 &     1.00 &   288.00 &    27.18466\\\\\n\t Sales          &  1790.06917 &   336.000 &     0.90 & 99130.12 &  4645.26592\\\\\n\t Profit         &   882.14618 &   133.645 & -4301.08 & 60250.64 &  2355.55204\\\\\n\t Shipping.Cost  &    12.85701 &     6.000 &     0.00 &   165.00 &    17.25349\\\\\n\t Customer\\_ID    &  1754.26283 &  1778.000 &     1.00 &  3403.00 &   978.71637\\\\\n\t Postal.Code    & 30559.55447 & 14215.000 &     0.00 & 99362.00 & 34282.17599\\\\\n\\end{tabular}\n",
            "text/markdown": "\nA data.frame: 9 × 6\n\n| variables &lt;chr&gt; | mean &lt;dbl&gt; | median &lt;dbl&gt; | min &lt;dbl&gt; | max &lt;dbl&gt; | standard_deviation &lt;dbl&gt; |\n|---|---|---|---|---|---|\n| Row            |  8399.50000 |  8399.500 |     1.00 | 16798.00 |  4849.30925 |\n| Order          | 59334.67722 | 72895.500 |     3.00 | 91591.00 | 31827.18325 |\n| Unit.Price     |    89.33016 |    21.000 |     1.00 |  6783.00 |   290.34258 |\n| Order.Quantity |    26.21985 |    16.000 |     1.00 |   288.00 |    27.18466 |\n| Sales          |  1790.06917 |   336.000 |     0.90 | 99130.12 |  4645.26592 |\n| Profit         |   882.14618 |   133.645 | -4301.08 | 60250.64 |  2355.55204 |\n| Shipping.Cost  |    12.85701 |     6.000 |     0.00 |   165.00 |    17.25349 |\n| Customer_ID    |  1754.26283 |  1778.000 |     1.00 |  3403.00 |   978.71637 |\n| Postal.Code    | 30559.55447 | 14215.000 |     0.00 | 99362.00 | 34282.17599 |\n\n",
            "text/html": [
              "<table class=\"dataframe\">\n",
              "<caption>A data.frame: 9 × 6</caption>\n",
              "<thead>\n",
              "\t<tr><th scope=col>variables</th><th scope=col>mean</th><th scope=col>median</th><th scope=col>min</th><th scope=col>max</th><th scope=col>standard_deviation</th></tr>\n",
              "\t<tr><th scope=col>&lt;chr&gt;</th><th scope=col>&lt;dbl&gt;</th><th scope=col>&lt;dbl&gt;</th><th scope=col>&lt;dbl&gt;</th><th scope=col>&lt;dbl&gt;</th><th scope=col>&lt;dbl&gt;</th></tr>\n",
              "</thead>\n",
              "<tbody>\n",
              "\t<tr><td>Row           </td><td> 8399.50000</td><td> 8399.500</td><td>    1.00</td><td>16798.00</td><td> 4849.30925</td></tr>\n",
              "\t<tr><td>Order         </td><td>59334.67722</td><td>72895.500</td><td>    3.00</td><td>91591.00</td><td>31827.18325</td></tr>\n",
              "\t<tr><td>Unit.Price    </td><td>   89.33016</td><td>   21.000</td><td>    1.00</td><td> 6783.00</td><td>  290.34258</td></tr>\n",
              "\t<tr><td>Order.Quantity</td><td>   26.21985</td><td>   16.000</td><td>    1.00</td><td>  288.00</td><td>   27.18466</td></tr>\n",
              "\t<tr><td>Sales         </td><td> 1790.06917</td><td>  336.000</td><td>    0.90</td><td>99130.12</td><td> 4645.26592</td></tr>\n",
              "\t<tr><td>Profit        </td><td>  882.14618</td><td>  133.645</td><td>-4301.08</td><td>60250.64</td><td> 2355.55204</td></tr>\n",
              "\t<tr><td>Shipping.Cost </td><td>   12.85701</td><td>    6.000</td><td>    0.00</td><td>  165.00</td><td>   17.25349</td></tr>\n",
              "\t<tr><td>Customer_ID   </td><td> 1754.26283</td><td> 1778.000</td><td>    1.00</td><td> 3403.00</td><td>  978.71637</td></tr>\n",
              "\t<tr><td>Postal.Code   </td><td>30559.55447</td><td>14215.000</td><td>    0.00</td><td>99362.00</td><td>34282.17599</td></tr>\n",
              "</tbody>\n",
              "</table>\n"
            ]
          },
          "metadata": {}
        }
      ]
    },
    {
      "cell_type": "markdown",
      "metadata": {
        "id": "aNJumnoHKc4y"
      },
      "source": [
        "3.   Apply  Min-Max  Normalization,Z-score  Standardization and  Robust  scalar on  the  numerical  data variables."
      ]
    },
    {
      "cell_type": "code",
      "metadata": {
        "id": "ymgvo6M7KkJo"
      },
      "source": [
        ""
      ],
      "execution_count": null,
      "outputs": []
    },
    {
      "cell_type": "markdown",
      "metadata": {
        "id": "WtCxRcXnKku4"
      },
      "source": [
        "4.   Line, Scatter and Heatmaps can be used to show the correlation between the features of the dataset."
      ]
    },
    {
      "cell_type": "code",
      "metadata": {
        "id": "pdt-nAWkKotj"
      },
      "source": [
        ""
      ],
      "execution_count": null,
      "outputs": []
    },
    {
      "cell_type": "markdown",
      "metadata": {
        "id": "FGRYA91SKpSm"
      },
      "source": [
        "5.   Graphics  and  descriptive  understanding  should  be  provided  along  with Data  Exploratory  analysis (EDA).Identify sub-groups of features that can explore some interesting facts"
      ]
    },
    {
      "cell_type": "code",
      "metadata": {
        "id": "EtYm7bM3Ksaz"
      },
      "source": [
        ""
      ],
      "execution_count": null,
      "outputs": []
    },
    {
      "cell_type": "markdown",
      "metadata": {
        "id": "F35U3gjnKsuj"
      },
      "source": [
        "6.   Apply  dummy  encoding  to  categorical  variables  (at  least  one  variable  use  from  the  data  set)  and discuss the benefits of dummy encoding to understand the categorical data."
      ]
    },
    {
      "cell_type": "code",
      "metadata": {
        "id": "vyIR20a5KxfA"
      },
      "source": [
        ""
      ],
      "execution_count": null,
      "outputs": []
    },
    {
      "cell_type": "markdown",
      "metadata": {
        "id": "muy9llPxKxvV"
      },
      "source": [
        "7.   Apply  PCA  with  your  chosen  number  of  components.  Write  up  a  short  profile  of  the  first  few components extracted based on your understanding."
      ]
    },
    {
      "cell_type": "code",
      "metadata": {
        "id": "iyrCD2UOK2C_"
      },
      "source": [
        ""
      ],
      "execution_count": null,
      "outputs": []
    },
    {
      "cell_type": "markdown",
      "metadata": {
        "id": "r3HoaO9rK2R9"
      },
      "source": [
        "8.   What  is  the  purpose  of  dimensionality  reduction? Explore  the  situations  where  you  can  gain  the benefit of dimensionality reduction for data analysis."
      ]
    },
    {
      "cell_type": "code",
      "metadata": {
        "id": "Ae09lddsK5Yq"
      },
      "source": [
        ""
      ],
      "execution_count": null,
      "outputs": []
    },
    {
      "cell_type": "markdown",
      "metadata": {
        "id": "vxm72sSPMVy3"
      },
      "source": [
        "###Section 2:"
      ]
    },
    {
      "cell_type": "markdown",
      "metadata": {
        "id": "95Rd3QXHLsMm"
      },
      "source": [
        "\n",
        "\n",
        "Your group will present their findings and defend the results in the report (MS Doc/ pdf or any other readable\n",
        "format). Your report should capture the following aspects that are relevant to your project investigations."
      ]
    },
    {
      "cell_type": "markdown",
      "metadata": {
        "id": "dXvhNcvfMnfV"
      },
      "source": [
        "1. Description of problem **domain** and chosen **data set**."
      ]
    },
    {
      "cell_type": "code",
      "metadata": {
        "id": "Fwa28RKOMCg-"
      },
      "source": [
        ""
      ],
      "execution_count": null,
      "outputs": []
    },
    {
      "cell_type": "markdown",
      "metadata": {
        "id": "W7yET4GlNgHT"
      },
      "source": [
        "2. Motivates for the **problem** and **Challenges** faced in Data Exploration project."
      ]
    },
    {
      "cell_type": "code",
      "metadata": {
        "id": "6gRWmbLCNl5S"
      },
      "source": [
        ""
      ],
      "execution_count": null,
      "outputs": []
    },
    {
      "cell_type": "markdown",
      "metadata": {
        "id": "JRGxtHoeNoUm"
      },
      "source": [
        "3. Characterization, description and explanation of **techniques** used to **prepare** the **data set** (size /\n",
        "attributes / missing values / outliers)."
      ]
    },
    {
      "cell_type": "code",
      "metadata": {
        "id": "2xK3jTIjNmyc"
      },
      "source": [
        ""
      ],
      "execution_count": null,
      "outputs": []
    },
    {
      "cell_type": "markdown",
      "metadata": {
        "id": "X6843QUsNtv2"
      },
      "source": [
        "4. Find unusual patterns by identifying **variations** and **covariation** between the features in the dataset\n",
        "and perform Exploratory Data Analysis (EDA) to justify outcomes."
      ]
    },
    {
      "cell_type": "code",
      "metadata": {
        "id": "e0nJMjOfOBzh"
      },
      "source": [
        ""
      ],
      "execution_count": null,
      "outputs": []
    },
    {
      "cell_type": "markdown",
      "metadata": {
        "id": "vsaWNNCZOlcV"
      },
      "source": [
        "5. Show the implementation of **encoding scheme**, such as one-hot. Apply Principal Component Analysis\n",
        "(**PCA**) for the dimensionality reduction. Interpret and explain the outcomes obtained using PCA.\n",
        "\n"
      ]
    },
    {
      "cell_type": "code",
      "metadata": {
        "id": "FBsqTdZmO548"
      },
      "source": [
        ""
      ],
      "execution_count": null,
      "outputs": []
    },
    {
      "cell_type": "markdown",
      "metadata": {
        "id": "8INvD3QBPE50"
      },
      "source": [
        "6. Provide an **explanation** of the **code** submitted along with the project (Code must be commented)."
      ]
    },
    {
      "cell_type": "code",
      "metadata": {
        "id": "LVW9398WPZMs"
      },
      "source": [
        ""
      ],
      "execution_count": null,
      "outputs": []
    },
    {
      "cell_type": "markdown",
      "metadata": {
        "id": "cyGlbcyVPZ6l"
      },
      "source": [
        "7. **Conclusion**s of the project should be specified at the end of the report. Citations and references to be\n",
        "in **Harvard** Style."
      ]
    },
    {
      "cell_type": "code",
      "metadata": {
        "id": "VkX-0h21PsAs"
      },
      "source": [
        ""
      ],
      "execution_count": null,
      "outputs": []
    }
  ]
}